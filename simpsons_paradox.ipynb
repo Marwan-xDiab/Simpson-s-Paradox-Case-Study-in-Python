{
 "cells": [
  {
   "cell_type": "markdown",
   "metadata": {
    "collapsed": true
   },
   "source": [
    "# Simpson's Paradox\n",
    "Use `admission_data.csv` for this exercise."
   ]
  },
  {
   "cell_type": "code",
   "execution_count": 3,
   "metadata": {},
   "outputs": [
    {
     "data": {
      "text/html": [
       "<div>\n",
       "<style scoped>\n",
       "    .dataframe tbody tr th:only-of-type {\n",
       "        vertical-align: middle;\n",
       "    }\n",
       "\n",
       "    .dataframe tbody tr th {\n",
       "        vertical-align: top;\n",
       "    }\n",
       "\n",
       "    .dataframe thead th {\n",
       "        text-align: right;\n",
       "    }\n",
       "</style>\n",
       "<table border=\"1\" class=\"dataframe\">\n",
       "  <thead>\n",
       "    <tr style=\"text-align: right;\">\n",
       "      <th></th>\n",
       "      <th>student_id</th>\n",
       "      <th>gender</th>\n",
       "      <th>major</th>\n",
       "      <th>admitted</th>\n",
       "    </tr>\n",
       "  </thead>\n",
       "  <tbody>\n",
       "    <tr>\n",
       "      <th>0</th>\n",
       "      <td>35377</td>\n",
       "      <td>female</td>\n",
       "      <td>Chemistry</td>\n",
       "      <td>False</td>\n",
       "    </tr>\n",
       "    <tr>\n",
       "      <th>1</th>\n",
       "      <td>56105</td>\n",
       "      <td>male</td>\n",
       "      <td>Physics</td>\n",
       "      <td>True</td>\n",
       "    </tr>\n",
       "    <tr>\n",
       "      <th>2</th>\n",
       "      <td>31441</td>\n",
       "      <td>female</td>\n",
       "      <td>Chemistry</td>\n",
       "      <td>False</td>\n",
       "    </tr>\n",
       "    <tr>\n",
       "      <th>3</th>\n",
       "      <td>51765</td>\n",
       "      <td>male</td>\n",
       "      <td>Physics</td>\n",
       "      <td>True</td>\n",
       "    </tr>\n",
       "    <tr>\n",
       "      <th>4</th>\n",
       "      <td>53714</td>\n",
       "      <td>female</td>\n",
       "      <td>Physics</td>\n",
       "      <td>True</td>\n",
       "    </tr>\n",
       "  </tbody>\n",
       "</table>\n",
       "</div>"
      ],
      "text/plain": [
       "   student_id  gender      major  admitted\n",
       "0       35377  female  Chemistry     False\n",
       "1       56105    male    Physics      True\n",
       "2       31441  female  Chemistry     False\n",
       "3       51765    male    Physics      True\n",
       "4       53714  female    Physics      True"
      ]
     },
     "execution_count": 3,
     "metadata": {},
     "output_type": "execute_result"
    }
   ],
   "source": [
    "# Load and view first few lines of dataset\n",
    "import pandas as pd \n",
    "df = pd.read_csv('admission_data.csv')\n",
    "df.head()"
   ]
  },
  {
   "cell_type": "markdown",
   "metadata": {},
   "source": [
    "### Proportion and admission rate for each gender"
   ]
  },
  {
   "cell_type": "code",
   "execution_count": 68,
   "metadata": {},
   "outputs": [
    {
     "name": "stdout",
     "output_type": "stream",
     "text": [
      "# Proportion of students that are female:  0.514\n"
     ]
    }
   ],
   "source": [
    "# Proportion of students that are female\n",
    "\n",
    "\n",
    "Total_Student=df['gender'].count()\n",
    "Total_Female_Student=df[( df['gender']=='female') ]['gender'].count()\n",
    "Total_Male_Student=df[( df['gender']=='male') ]['gender'].count()\n",
    "\n",
    "Total_Admitted=df[ df['admitted']==True ]['gender'].count()\n",
    "Total_female_Admitted=df[( df['gender']=='female') & (df['admitted']==True)]['gender'].count()\n",
    "Total_male_Admitted=df[( df['gender']=='male') & (df['admitted']==True)]['gender'].count()\n",
    "\n",
    "Total_Not_Admitted=df[ df['admitted']==False ]['gender'].count()\n",
    "Total_female_Not_Admitted=df[( df['gender']=='female') & (df['admitted']==False)]['gender'].count()\n",
    "Total_male_Not_Admitted=df[( df['gender']=='male') & (df['admitted']==False)]['gender'].count()\n",
    "\n",
    "print('# Proportion of students that are female: ',(Total_Female_Student)/Total_Student)"
   ]
  },
  {
   "cell_type": "code",
   "execution_count": 69,
   "metadata": {},
   "outputs": [
    {
     "name": "stdout",
     "output_type": "stream",
     "text": [
      "# Proportion of students that are male:  0.486\n"
     ]
    }
   ],
   "source": [
    "# Proportion of students that are male\n",
    "print('# Proportion of students that are male: ',(Total_Male_Student)/Total_Student)"
   ]
  },
  {
   "cell_type": "code",
   "execution_count": 73,
   "metadata": {},
   "outputs": [
    {
     "name": "stdout",
     "output_type": "stream",
     "text": [
      "# Admission rate for females:  0.287937743191\n"
     ]
    }
   ],
   "source": [
    "# Admission rate for females\n",
    "print('# Admission rate for females: ',(Total_female_Admitted)/Total_Female_Student)"
   ]
  },
  {
   "cell_type": "code",
   "execution_count": 74,
   "metadata": {},
   "outputs": [
    {
     "name": "stdout",
     "output_type": "stream",
     "text": [
      "# Admission rate for male:  0.485596707819\n"
     ]
    }
   ],
   "source": [
    "# Admission rate for males\n",
    "print('# Admission rate for male: ',(Total_male_Admitted)/Total_Male_Student)"
   ]
  },
  {
   "cell_type": "markdown",
   "metadata": {},
   "source": [
    "### Proportion and admission rate for physics majors of each gender"
   ]
  },
  {
   "cell_type": "code",
   "execution_count": 118,
   "metadata": {},
   "outputs": [
    {
     "name": "stdout",
     "output_type": "stream",
     "text": [
      "female students are majoring in physics :  0.120622568093\n"
     ]
    }
   ],
   "source": [
    "# What proportion of female students are majoring in physics?\n",
    "female_Student=df[(df['gender']=='female') ]['gender'].count()\n",
    "male_Student=df[(df['gender']=='male' ) ]['gender'].count()\n",
    "physics_Female_Student=df[( df['gender']=='female') & (df['major']=='Physics') ]['gender'].count()\n",
    "physics_male_Student=df[( df['gender']=='male') & (df['major']=='Physics') ]['gender'].count()\n",
    "\n",
    "physics_Student_admitted=df[ (df['admitted']==True)  & (df['major']=='Physics') ]['gender'].count()\n",
    "physics_Female_Student_admitted=df[( df['gender']=='female') & (df['admitted']==True)  & (df['major']=='Physics') ]['gender'].count()\n",
    "physics_male_Student_admitted=df[( df['gender']=='male') & (df['admitted']==True)  & (df['major']=='Physics') ]['gender'].count()\n",
    "\n",
    "print( 'female students are majoring in physics : ',(physics_Female_Student)/female_Student)"
   ]
  },
  {
   "cell_type": "code",
   "execution_count": 119,
   "metadata": {},
   "outputs": [
    {
     "name": "stdout",
     "output_type": "stream",
     "text": [
      "male students are majoring in physics :  0.925925925926\n"
     ]
    }
   ],
   "source": [
    "# What proportion of male students are majoring in physics?\n",
    "print( 'male students are majoring in physics : ',(physics_male_Student)/male_Student)"
   ]
  },
  {
   "cell_type": "code",
   "execution_count": 88,
   "metadata": {},
   "outputs": [
    {
     "name": "stdout",
     "output_type": "stream",
     "text": [
      "Admission rate for female physics majors :  0.741935483871\n"
     ]
    }
   ],
   "source": [
    "# Admission rate for female physics majors\n",
    "print( 'Admission rate for female physics majors : ',(physics_Female_Student_admitted)/physics_Female_Student)"
   ]
  },
  {
   "cell_type": "code",
   "execution_count": 89,
   "metadata": {},
   "outputs": [
    {
     "name": "stdout",
     "output_type": "stream",
     "text": [
      "Admission rate for male physics majors :  0.515555555556\n"
     ]
    }
   ],
   "source": [
    "# Admission rate for male physics majors\n",
    "print( 'Admission rate for male physics majors : ',(physics_male_Student_admitted)/physics_male_Student)"
   ]
  },
  {
   "cell_type": "markdown",
   "metadata": {},
   "source": [
    "### Proportion and admission rate for chemistry majors of each gender"
   ]
  },
  {
   "cell_type": "code",
   "execution_count": 122,
   "metadata": {},
   "outputs": [
    {
     "name": "stdout",
     "output_type": "stream",
     "text": [
      "female students are majoring in chemistry :  0.879377431907\n"
     ]
    }
   ],
   "source": [
    "# What proportion of female students are majoring in chemistry?\n",
    "chemistry_Student=df[(df['major']=='Chemistry') ]['gender'].count()\n",
    "\n",
    "\n",
    "chemistry_Female_Student=df[( df['gender']=='female') & (df['major']=='Chemistry') ]['gender'].count()\n",
    "\n",
    "chemistry_male_Student=df[( df['gender']=='male') & (df['major']=='Chemistry') ]['gender'].count()\n",
    "chemistry_male_Student\n",
    "chemistry_Student_admitted_female=df[ (df['gender']=='female')  & (df['major']=='Chemistry') ]['gender'].count()\n",
    "chemistry_Student_admitted_male=df[ (df['gender']=='male')   & (df['major']=='Chemistry') ]['gender'].count()\n",
    "chemistry_Female_Student_admitted=df[( df['gender']=='female') & (df['admitted']==True)  & (df['major']=='Chemistry') ]['gender'].count()\n",
    "chemistry_male_Student_admitted=df[( df['gender']=='male') & (df['admitted']==True)  & (df['major']=='Chemistry') ]['gender'].count()\n",
    "\n",
    "print( 'female students are majoring in chemistry : ',(chemistry_Female_Student)/female_Student)"
   ]
  },
  {
   "cell_type": "code",
   "execution_count": 121,
   "metadata": {},
   "outputs": [
    {
     "name": "stdout",
     "output_type": "stream",
     "text": [
      "male students are majoring in chemistry :  0.0740740740741\n"
     ]
    }
   ],
   "source": [
    "# What proportion of male students are majoring in chemistry?\n",
    "print( 'male students are majoring in chemistry : ',(chemistry_male_Student)/male_Student)"
   ]
  },
  {
   "cell_type": "code",
   "execution_count": 123,
   "metadata": {},
   "outputs": [
    {
     "name": "stdout",
     "output_type": "stream",
     "text": [
      "Admission rate for female chemistry majors :  0.225663716814\n"
     ]
    }
   ],
   "source": [
    "# Admission rate for female chemistry majors\n",
    "print( 'Admission rate for female chemistry majors : ',(chemistry_Female_Student_admitted)/chemistry_Student_admitted_female)"
   ]
  },
  {
   "cell_type": "code",
   "execution_count": 124,
   "metadata": {},
   "outputs": [
    {
     "name": "stdout",
     "output_type": "stream",
     "text": [
      "Admission rate for female chemistry majors :  0.111111111111\n"
     ]
    }
   ],
   "source": [
    "# Admission rate for male chemistry majors\n",
    "print( 'Admission rate for female chemistry majors : ',(chemistry_male_Student_admitted)/chemistry_Student_admitted_male)"
   ]
  },
  {
   "cell_type": "markdown",
   "metadata": {},
   "source": [
    "### Admission rate for each major"
   ]
  },
  {
   "cell_type": "code",
   "execution_count": 114,
   "metadata": {},
   "outputs": [
    {
     "data": {
      "text/plain": [
       "0.21721311475409835"
      ]
     },
     "execution_count": 114,
     "metadata": {},
     "output_type": "execute_result"
    }
   ],
   "source": [
    "# Admission rate for physics majors\n",
    "chemistry_Student=df['gender'].count()\n",
    "chemistry_Student=df[(df['major']=='Chemistry') ]['gender'].count()\n",
    "Physics_Student=df[(df['major']=='Physics')  ]['gender'].count()\n",
    "\n",
    "chemistry_Student_Admission=df[(df['major']=='Chemistry') & (df['admitted']==True) ]['gender'].count()\n",
    "Physics_Student_Admission=df[(df['major']=='Physics') & (df['admitted']==True) ]['gender'].count()\n",
    "\n",
    "\n",
    "chemistry_Student_Admission/chemistry_Student"
   ]
  },
  {
   "cell_type": "code",
   "execution_count": 115,
   "metadata": {},
   "outputs": [
    {
     "data": {
      "text/plain": [
       "0.54296875"
      ]
     },
     "execution_count": 115,
     "metadata": {},
     "output_type": "execute_result"
    }
   ],
   "source": [
    "# Admission rate for chemistry majors\n",
    "Physics_Student_Admission/Physics_Student"
   ]
  },
  {
   "cell_type": "code",
   "execution_count": null,
   "metadata": {},
   "outputs": [],
   "source": []
  }
 ],
 "metadata": {
  "kernelspec": {
   "display_name": "Python 3",
   "language": "python",
   "name": "python3"
  },
  "language_info": {
   "codemirror_mode": {
    "name": "ipython",
    "version": 3
   },
   "file_extension": ".py",
   "mimetype": "text/x-python",
   "name": "python",
   "nbconvert_exporter": "python",
   "pygments_lexer": "ipython3",
   "version": "3.6.3"
  }
 },
 "nbformat": 4,
 "nbformat_minor": 2
}
